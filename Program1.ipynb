{
  "nbformat": 4,
  "nbformat_minor": 0,
  "metadata": {
    "colab": {
      "name": "Program1.ipynb",
      "provenance": []
    },
    "kernelspec": {
      "name": "python3",
      "display_name": "Python 3"
    },
    "language_info": {
      "name": "python"
    }
  },
  "cells": [
    {
      "cell_type": "markdown",
      "metadata": {
        "id": "vfEiZEQXSRqL"
      },
      "source": [
        "# **String to md5**"
      ]
    },
    {
      "cell_type": "code",
      "metadata": {
        "colab": {
          "base_uri": "https://localhost:8080/"
        },
        "id": "iwkArPucSbri",
        "outputId": "8d2fbe89-753c-43e7-9f46-f1be0a695a6f"
      },
      "source": [
        "import hashlib\n",
        "str=\"harsh\"\n",
        "output=hashlib.md5(str.encode())\n",
        "print(output.hexdigest())"
      ],
      "execution_count": 1,
      "outputs": [
        {
          "output_type": "stream",
          "text": [
            "d4e3730e8cba214f85cddae5f9331d74\n"
          ],
          "name": "stdout"
        }
      ]
    }
  ]
}