{
  "nbformat": 4,
  "nbformat_minor": 0,
  "metadata": {
    "colab": {
      "name": "Program2.ipynb",
      "provenance": []
    },
    "kernelspec": {
      "name": "python3",
      "display_name": "Python 3"
    },
    "language_info": {
      "name": "python"
    }
  },
  "cells": [
    {
      "cell_type": "markdown",
      "metadata": {
        "id": "V4fOU17FThIx"
      },
      "source": [
        "# **String to blake2b**"
      ]
    },
    {
      "cell_type": "code",
      "metadata": {
        "colab": {
          "base_uri": "https://localhost:8080/"
        },
        "id": "RIxcNj27T01s",
        "outputId": "26c2628d-f678-4be7-c0bd-8bc88df5446b"
      },
      "source": [
        "import hashlib\n",
        "str=\"harsh\"\n",
        "output1=hashlib.blake2b(str.encode())\n",
        "print(output1.hexdigest())"
      ],
      "execution_count": 3,
      "outputs": [
        {
          "output_type": "stream",
          "text": [
            "c7b695f62472c8dd055d1ce94dc43640983e7f080389c92b9ac3c98dd75030212519566f215b5b5bf231a5eea9312ceaeb1b83e1ab8bdf1c7a2bd76e87771165\n"
          ],
          "name": "stdout"
        }
      ]
    },
    {
      "cell_type": "markdown",
      "metadata": {
        "id": "HW1LvjfwUd8Z"
      },
      "source": [
        "# **String to blake2s**"
      ]
    },
    {
      "cell_type": "code",
      "metadata": {
        "colab": {
          "base_uri": "https://localhost:8080/"
        },
        "id": "l65oo1OZUkWj",
        "outputId": "aefe2696-7697-47d9-885d-9faaee70069c"
      },
      "source": [
        "import hashlib\n",
        "str=\"harsh\"\n",
        "output2=hashlib.blake2s(str.encode())\n",
        "print(output2.hexdigest())"
      ],
      "execution_count": 4,
      "outputs": [
        {
          "output_type": "stream",
          "text": [
            "79e01eba20ab2a619cde2ac3dea6420715e09a3af7ec010566a152f26b3f5196\n"
          ],
          "name": "stdout"
        }
      ]
    },
    {
      "cell_type": "markdown",
      "metadata": {
        "id": "AVaNGTKoUvre"
      },
      "source": [
        "# **String to sha1**"
      ]
    },
    {
      "cell_type": "code",
      "metadata": {
        "colab": {
          "base_uri": "https://localhost:8080/"
        },
        "id": "JlOJbVbTU3Dd",
        "outputId": "aa2d32b5-f55e-43a0-aeb4-27b6f6f985c9"
      },
      "source": [
        "import hashlib\n",
        "str=\"harsh\"\n",
        "output3=hashlib.sha1(str.encode())\n",
        "print(output3.hexdigest())"
      ],
      "execution_count": 5,
      "outputs": [
        {
          "output_type": "stream",
          "text": [
            "25a9fc4361f0de99d66f569f23dc0154e7064e35\n"
          ],
          "name": "stdout"
        }
      ]
    }
  ]
}